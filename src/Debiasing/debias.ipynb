{
 "cells": [
  {
   "cell_type": "code",
   "execution_count": 37,
   "metadata": {},
   "outputs": [],
   "source": [
    "from matplotlib import pyplot as plt\n",
    "import json\n",
    "import random\n",
    "import numpy as np\n",
    "\n",
    "def Manzini(E):\n",
    "    print(\"Performing Debiasing using Manzini Method ...\")\n",
    "    %cd 'Manzini/Debiasing/'\n",
    "    src_file = 'reddit.US.txt.tok.clean.cleanedforw2v.w2v'\n",
    "    src_file = E\n",
    "    !python debias.py {src_file} 'data/vocab/gender_attributes_optm.json' role -w -hard -soft  \n",
    "    \n",
    "def Bolukbasi(E):\n",
    "    print(\"Performing Debiasing using Bolukbasi Method ...\")\n",
    "    with open('../data/definitional_pairs.json', \"r\") as f:\n",
    "        defs = json.load(f)\n",
    "    print(\"definitional\", defs)\n",
    "    E_output = \"debiased_embeddings\"\n",
    "    !python debias.py {E} ../data/definitional_pairs.json ../data/gender_specific_full.json ../data/equalize_pairs.json {E_output}\n",
    "\n",
    "    \n",
    "    \n",
    "    \n",
    "def Main():\n",
    "    print(\"Debiasing Program\")\n",
    "    Debias()"
   ]
  },
  {
   "cell_type": "code",
   "execution_count": 40,
   "metadata": {},
   "outputs": [
    {
     "name": "stdout",
     "output_type": "stream",
     "text": [
      "Debiasing Program\n",
      "Performing Debiasing using Bolukbasi Method ...\n",
      "definitional [['woman', 'man'], ['girl', 'boy'], ['she', 'he'], ['mother', 'father'], ['daughter', 'son'], ['gal', 'guy'], ['female', 'male'], ['her', 'his'], ['herself', 'himself']]\n",
      "/opt/anaconda3/lib/python3.7/site-packages/sklearn/linear_model/least_angle.py:30: DeprecationWarning: `np.float` is a deprecated alias for the builtin `float`. To silence this warning, use `float` by itself. Doing this will not modify any behavior and is safe. If you specifically wanted the numpy scalar type, use `np.float64` here.\n",
      "Deprecated in NumPy 1.20; for more details and guidance: https://numpy.org/devdocs/release/1.20.0-notes.html#deprecations\n",
      "  method='lar', copy_X=True, eps=np.finfo(np.float).eps,\n",
      "/opt/anaconda3/lib/python3.7/site-packages/sklearn/linear_model/least_angle.py:167: DeprecationWarning: `np.float` is a deprecated alias for the builtin `float`. To silence this warning, use `float` by itself. Doing this will not modify any behavior and is safe. If you specifically wanted the numpy scalar type, use `np.float64` here.\n",
      "Deprecated in NumPy 1.20; for more details and guidance: https://numpy.org/devdocs/release/1.20.0-notes.html#deprecations\n",
      "  method='lar', copy_X=True, eps=np.finfo(np.float).eps,\n",
      "/opt/anaconda3/lib/python3.7/site-packages/sklearn/linear_model/least_angle.py:284: DeprecationWarning: `np.float` is a deprecated alias for the builtin `float`. To silence this warning, use `float` by itself. Doing this will not modify any behavior and is safe. If you specifically wanted the numpy scalar type, use `np.float64` here.\n",
      "Deprecated in NumPy 1.20; for more details and guidance: https://numpy.org/devdocs/release/1.20.0-notes.html#deprecations\n",
      "  eps=np.finfo(np.float).eps, copy_Gram=True, verbose=0,\n",
      "/opt/anaconda3/lib/python3.7/site-packages/sklearn/linear_model/least_angle.py:862: DeprecationWarning: `np.float` is a deprecated alias for the builtin `float`. To silence this warning, use `float` by itself. Doing this will not modify any behavior and is safe. If you specifically wanted the numpy scalar type, use `np.float64` here.\n",
      "Deprecated in NumPy 1.20; for more details and guidance: https://numpy.org/devdocs/release/1.20.0-notes.html#deprecations\n",
      "  eps=np.finfo(np.float).eps, copy_X=True, fit_path=True,\n",
      "/opt/anaconda3/lib/python3.7/site-packages/sklearn/linear_model/least_angle.py:1101: DeprecationWarning: `np.float` is a deprecated alias for the builtin `float`. To silence this warning, use `float` by itself. Doing this will not modify any behavior and is safe. If you specifically wanted the numpy scalar type, use `np.float64` here.\n",
      "Deprecated in NumPy 1.20; for more details and guidance: https://numpy.org/devdocs/release/1.20.0-notes.html#deprecations\n",
      "  eps=np.finfo(np.float).eps, copy_X=True, fit_path=True,\n",
      "/opt/anaconda3/lib/python3.7/site-packages/sklearn/linear_model/least_angle.py:1127: DeprecationWarning: `np.float` is a deprecated alias for the builtin `float`. To silence this warning, use `float` by itself. Doing this will not modify any behavior and is safe. If you specifically wanted the numpy scalar type, use `np.float64` here.\n",
      "Deprecated in NumPy 1.20; for more details and guidance: https://numpy.org/devdocs/release/1.20.0-notes.html#deprecations\n",
      "  eps=np.finfo(np.float).eps, positive=False):\n",
      "/opt/anaconda3/lib/python3.7/site-packages/sklearn/linear_model/least_angle.py:1362: DeprecationWarning: `np.float` is a deprecated alias for the builtin `float`. To silence this warning, use `float` by itself. Doing this will not modify any behavior and is safe. If you specifically wanted the numpy scalar type, use `np.float64` here.\n",
      "Deprecated in NumPy 1.20; for more details and guidance: https://numpy.org/devdocs/release/1.20.0-notes.html#deprecations\n",
      "  max_n_alphas=1000, n_jobs=None, eps=np.finfo(np.float).eps,\n",
      "/opt/anaconda3/lib/python3.7/site-packages/sklearn/linear_model/least_angle.py:1602: DeprecationWarning: `np.float` is a deprecated alias for the builtin `float`. To silence this warning, use `float` by itself. Doing this will not modify any behavior and is safe. If you specifically wanted the numpy scalar type, use `np.float64` here.\n",
      "Deprecated in NumPy 1.20; for more details and guidance: https://numpy.org/devdocs/release/1.20.0-notes.html#deprecations\n",
      "  max_n_alphas=1000, n_jobs=None, eps=np.finfo(np.float).eps,\n",
      "/opt/anaconda3/lib/python3.7/site-packages/sklearn/linear_model/least_angle.py:1738: DeprecationWarning: `np.float` is a deprecated alias for the builtin `float`. To silence this warning, use `float` by itself. Doing this will not modify any behavior and is safe. If you specifically wanted the numpy scalar type, use `np.float64` here.\n",
      "Deprecated in NumPy 1.20; for more details and guidance: https://numpy.org/devdocs/release/1.20.0-notes.html#deprecations\n",
      "  eps=np.finfo(np.float).eps, copy_X=True, positive=False):\n",
      "/opt/anaconda3/lib/python3.7/site-packages/sklearn/decomposition/online_lda.py:29: DeprecationWarning: `np.float` is a deprecated alias for the builtin `float`. To silence this warning, use `float` by itself. Doing this will not modify any behavior and is safe. If you specifically wanted the numpy scalar type, use `np.float64` here.\n",
      "Deprecated in NumPy 1.20; for more details and guidance: https://numpy.org/devdocs/release/1.20.0-notes.html#deprecations\n",
      "  EPS = np.finfo(np.float).eps\n",
      "Namespace(debiased_filename='debiased_embeddings', definitional_filename='../data/definitional_pairs.json', embedding_filename='../../Pretrained_Embeddings/CDAembeddings.w2v', equalize_filename='../data/equalize_pairs.json', gendered_words_filename='../data/gender_specific_full.json')\n",
      "definitional [['woman', 'man'], ['girl', 'boy'], ['she', 'he'], ['mother', 'father'], ['daughter', 'son'], ['gal', 'guy'], ['female', 'male'], ['her', 'his'], ['herself', 'himself']]\n",
      "gender specific 1441 ['he', 'his', 'He', 'her', 'she', 'him', 'She', 'man', 'women', 'men']\n",
      "*** Reading data from ../../Pretrained_Embeddings/CDAembeddings.w2v\n",
      "(30943, 50)\n",
      "30943 words of dimension 50 : the, to, a, and, ..., sadder, roomate, compensates, marathons\n",
      "30943 words of dimension 50 : the, to, a, and, ..., sadder, roomate, compensates, marathons\n",
      "Debiasing...\n",
      "30943 words of dimension 50 : the, to, a, and, ..., sadder, roomate, compensates, marathons\n",
      "{('Grandsons', 'Granddaughters'), ('Uncle', 'Aunt'), ('wives', 'husbands'), ('Gelding', 'Mare'), ('MALES', 'FEMALES'), ('males', 'females'), ('HIS', 'HER'), ('MONASTERY', 'CONVENT'), ('UNCLE', 'AUNT'), ('Man', 'Woman'), ('he', 'she'), ('Dudes', 'Gals'), ('fatherhood', 'motherhood'), ('Fatherhood', 'Motherhood'), ('monastery', 'convent'), ('councilman', 'councilwoman'), ('Father', 'Mother'), ('Nephew', 'Niece'), ('Himself', 'Herself'), ('Dad', 'Mom'), ('KING', 'QUEEN'), ('fathers', 'mothers'), ('MAN', 'WOMAN'), ('grandfather', 'grandmother'), ('Twin_Brother', 'Twin_Sister'), ('grandpa', 'grandma'), ('Boys', 'Girls'), ('FATHERS', 'MOTHERS'), ('brother', 'sister'), ('Spokesman', 'Spokeswoman'), ('Brothers', 'Sisters'), ('male', 'female'), ('Prostate_Cancer', 'Ovarian_Cancer'), ('boy', 'girl'), ('KINGS', 'QUEENS'), ('businessman', 'businesswoman'), ('nephew', 'niece'), ('FRATERNITY', 'SORORITY'), ('His', 'Her'), ('WIVES', 'HUSBANDS'), ('CONGRESSMAN', 'CONGRESSWOMAN'), ('Ex_Girlfriend', 'Ex_Boyfriend'), ('king', 'queen'), ('GELDING', 'MARE'), ('CATHOLIC_PRIEST', 'NUN'), ('BROTHERS', 'SISTERS'), ('SCHOOLBOY', 'SCHOOLGIRL'), ('prostate_cancer', 'ovarian_cancer'), ('colt', 'filly'), ('dudes', 'gals'), ('Congressman', 'Congresswoman'), ('gentlemen', 'ladies'), ('his', 'her'), ('Grandson', 'Granddaughter'), ('Catholic_Priest', 'Nun'), ('MALE', 'FEMALE'), ('COUNCILMAN', 'COUNCILWOMAN'), ('Sons', 'Daughters'), ('grandsons', 'granddaughters'), ('Chairman', 'Chairwoman'), ('congressman', 'congresswoman'), ('SPOKESMAN', 'SPOKESWOMAN'), ('fella', 'granny'), ('HIMSELF', 'HERSELF'), ('son', 'daughter'), ('PROSTATE_CANCER', 'OVARIAN_CANCER'), ('COLT', 'FILLY'), ('prince', 'princess'), ('GENTLEMAN', 'LADY'), ('FELLA', 'GRANNY'), ('PRINCE', 'PRINCESS'), ('dads', 'moms'), ('SON', 'DAUGHTER'), ('King', 'Queen'), ('GRANDFATHER', 'GRANDMOTHER'), ('HE', 'SHE'), ('Boy', 'Girl'), ('He', 'She'), ('CHAIRMAN', 'CHAIRWOMAN'), ('GENTLEMEN', 'LADIES'), ('BOY', 'GIRL'), ('sons', 'daughters'), ('GRANDSONS', 'GRANDDAUGHTERS'), ('Gentlemen', 'Ladies'), ('Councilman', 'Councilwoman'), ('Son', 'Daughter'), ('fraternity', 'sorority'), ('GRANDPA', 'GRANDMA'), ('dad', 'mom'), ('Testosterone', 'Estrogen'), ('MEN', 'WOMEN'), ('Men', 'Women'), ('ex_girlfriend', 'ex_boyfriend'), ('himself', 'herself'), ('FATHERHOOD', 'MOTHERHOOD'), ('Gentleman', 'Lady'), ('FATHER', 'MOTHER'), ('Grandfather', 'Grandmother'), ('testosterone', 'estrogen'), ('GRANDSON', 'GRANDDAUGHTER'), ('EX_GIRLFRIEND', 'EX_BOYFRIEND'), ('BOYS', 'GIRLS'), ('spokesman', 'spokeswoman'), ('Prince', 'Princess'), ('gentleman', 'lady'), ('Kings', 'Queens'), ('DAD', 'MOM'), ('TESTOSTERONE', 'ESTROGEN'), ('Wives', 'Husbands'), ('father', 'mother'), ('Males', 'Females'), ('twin_brother', 'twin_sister'), ('uncle', 'aunt'), ('boys', 'girls'), ('chairman', 'chairwoman'), ('men', 'women'), ('Businessman', 'Businesswoman'), ('gelding', 'mare'), ('BUSINESSMAN', 'BUSINESSWOMAN'), ('Dads', 'Moms'), ('BROTHER', 'SISTER'), ('Fraternity', 'Sorority'), ('DADS', 'MOMS'), ('NEPHEW', 'NIECE'), ('Colt', 'Filly'), ('kings', 'queens'), ('Fella', 'Granny'), ('Monastery', 'Convent'), ('brothers', 'sisters'), ('schoolboy', 'schoolgirl'), ('TWIN_BROTHER', 'TWIN_SISTER'), ('Schoolboy', 'Schoolgirl'), ('grandson', 'granddaughter'), ('man', 'woman'), ('Fathers', 'Mothers'), ('SONS', 'DAUGHTERS'), ('DUDES', 'GALS'), ('Male', 'Female'), ('catholic_priest', 'nun'), ('Grandpa', 'Grandma'), ('Brother', 'Sister')}\n"
     ]
    },
    {
     "name": "stdout",
     "output_type": "stream",
     "text": [
      "30943 words of dimension 50 : the, to, a, and, ..., sadder, roomate, compensates, marathons\n",
      "Saving to file...\n",
      "Wrote 30943 words to debiased_embeddings\n",
      "\n",
      "\n",
      "Done!\n",
      "\n"
     ]
    }
   ],
   "source": [
    "def Debias():\n",
    "    embedding_file = '../../Pretrained_Embeddings/CDAembeddings.w2v'\n",
    "    Bolukbasi(embedding_file)\n",
    "    #Manzini(embedding_file)\n",
    "    # homemaker, hairdresser not in Manzini (no CDA)\n",
    "    # manager not in Manzini (CDA)\n",
    "    # [\"his\", \"hers\"] (CDA)\n",
    "    # [\"Mary\", \"John\"] not in Bolukbasi (no CDA)\n",
    "    \n",
    "    '''\n",
    "    To-do: remove keys that are not in the corpus (ex. homemaker)\n",
    "    '''\n",
    "\n",
    "\n",
    "Main()"
   ]
  },
  {
   "cell_type": "code",
   "execution_count": null,
   "metadata": {},
   "outputs": [],
   "source": []
  }
 ],
 "metadata": {
  "kernelspec": {
   "display_name": "Python 3",
   "language": "python",
   "name": "python3"
  },
  "language_info": {
   "codemirror_mode": {
    "name": "ipython",
    "version": 3
   },
   "file_extension": ".py",
   "mimetype": "text/x-python",
   "name": "python",
   "nbconvert_exporter": "python",
   "pygments_lexer": "ipython3",
   "version": "3.7.4"
  }
 },
 "nbformat": 4,
 "nbformat_minor": 2
}
