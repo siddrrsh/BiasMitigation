{
 "cells": [
  {
   "cell_type": "markdown",
   "metadata": {},
   "source": [
    "# Notebook for Debiasing Embeddings\n",
    "\n",
    "All existing embeddings are in 'src/Pretrained_Embeddings'. In this code, you can choose between applying either Manzini or Bolukbasi as a post-hoc bias mitigation method. Simply specify the embedding file. "
   ]
  },
  {
   "cell_type": "code",
   "execution_count": 10,
   "metadata": {},
   "outputs": [],
   "source": [
    "from matplotlib import pyplot as plt\n",
    "import json\n",
    "import random\n",
    "import numpy as np\n",
    "\n",
    "def Manzini(E):\n",
    "    print(\"Performing Debiasing using Manzini Method ...\")\n",
    "    %cd 'Manzini/Debiasing/'\n",
    "    src_file = 'reddit.US.txt.tok.clean.cleanedforw2v.w2v'\n",
    "    src_file = E\n",
    "    !python debias.py {src_file} 'data/vocab/gender_attributes_optm.json' role -w -hard -soft  \n",
    "    \n",
    "def Bolukbasi(E):\n",
    "    %cd 'Bolukbasi/debiaswe/'\n",
    "    %ls\n",
    "    print(\"Performing Debiasing using Bolukbasi Method ...\")\n",
    "    with open('../data/definitional_pairs.json', \"r\") as f:\n",
    "        defs = json.load(f)\n",
    "    print(\"definitional\", defs)\n",
    "    E_output = \"debiased_embeddings\"\n",
    "    !python debias.py {E} ../data/definitional_pairs.json ../data/gender_specific_full.json ../data/equalize_pairs.json {E_output}\n",
    "\n",
    "    \n",
    "    \n",
    "    \n",
    "def Main():\n",
    "    print(\"Debiasing Program\")\n",
    "    Debias()"
   ]
  },
  {
   "cell_type": "code",
   "execution_count": 11,
   "metadata": {},
   "outputs": [
    {
     "name": "stdout",
     "output_type": "stream",
     "text": [
      "Debiasing Program\n",
      "[Errno 2] No such file or directory: 'Bolukbasi/debiaswe/'\n",
      "/Users/siddharth/Desktop/BiasMitigation_New/src/Debiasing/Bolukbasi/debiaswe\n",
      "__init__.py               debias.py                 we.py\n",
      "\u001b[34m__pycache__\u001b[m\u001b[m/              debiased_embeddings\n",
      "data.py                   learn_gender_specific.py\n",
      "Performing Debiasing using Bolukbasi Method ...\n",
      "definitional [['woman', 'man'], ['girl', 'boy'], ['she', 'he'], ['mother', 'father'], ['daughter', 'son'], ['gal', 'guy'], ['female', 'male'], ['her', 'his'], ['herself', 'himself']]\n",
      "/opt/anaconda3/lib/python3.7/site-packages/sklearn/linear_model/least_angle.py:30: DeprecationWarning: `np.float` is a deprecated alias for the builtin `float`. To silence this warning, use `float` by itself. Doing this will not modify any behavior and is safe. If you specifically wanted the numpy scalar type, use `np.float64` here.\n",
      "Deprecated in NumPy 1.20; for more details and guidance: https://numpy.org/devdocs/release/1.20.0-notes.html#deprecations\n",
      "  method='lar', copy_X=True, eps=np.finfo(np.float).eps,\n",
      "/opt/anaconda3/lib/python3.7/site-packages/sklearn/linear_model/least_angle.py:167: DeprecationWarning: `np.float` is a deprecated alias for the builtin `float`. To silence this warning, use `float` by itself. Doing this will not modify any behavior and is safe. If you specifically wanted the numpy scalar type, use `np.float64` here.\n",
      "Deprecated in NumPy 1.20; for more details and guidance: https://numpy.org/devdocs/release/1.20.0-notes.html#deprecations\n",
      "  method='lar', copy_X=True, eps=np.finfo(np.float).eps,\n",
      "/opt/anaconda3/lib/python3.7/site-packages/sklearn/linear_model/least_angle.py:284: DeprecationWarning: `np.float` is a deprecated alias for the builtin `float`. To silence this warning, use `float` by itself. Doing this will not modify any behavior and is safe. If you specifically wanted the numpy scalar type, use `np.float64` here.\n",
      "Deprecated in NumPy 1.20; for more details and guidance: https://numpy.org/devdocs/release/1.20.0-notes.html#deprecations\n",
      "  eps=np.finfo(np.float).eps, copy_Gram=True, verbose=0,\n",
      "/opt/anaconda3/lib/python3.7/site-packages/sklearn/linear_model/least_angle.py:862: DeprecationWarning: `np.float` is a deprecated alias for the builtin `float`. To silence this warning, use `float` by itself. Doing this will not modify any behavior and is safe. If you specifically wanted the numpy scalar type, use `np.float64` here.\n",
      "Deprecated in NumPy 1.20; for more details and guidance: https://numpy.org/devdocs/release/1.20.0-notes.html#deprecations\n",
      "  eps=np.finfo(np.float).eps, copy_X=True, fit_path=True,\n",
      "/opt/anaconda3/lib/python3.7/site-packages/sklearn/linear_model/least_angle.py:1101: DeprecationWarning: `np.float` is a deprecated alias for the builtin `float`. To silence this warning, use `float` by itself. Doing this will not modify any behavior and is safe. If you specifically wanted the numpy scalar type, use `np.float64` here.\n",
      "Deprecated in NumPy 1.20; for more details and guidance: https://numpy.org/devdocs/release/1.20.0-notes.html#deprecations\n",
      "  eps=np.finfo(np.float).eps, copy_X=True, fit_path=True,\n",
      "/opt/anaconda3/lib/python3.7/site-packages/sklearn/linear_model/least_angle.py:1127: DeprecationWarning: `np.float` is a deprecated alias for the builtin `float`. To silence this warning, use `float` by itself. Doing this will not modify any behavior and is safe. If you specifically wanted the numpy scalar type, use `np.float64` here.\n",
      "Deprecated in NumPy 1.20; for more details and guidance: https://numpy.org/devdocs/release/1.20.0-notes.html#deprecations\n",
      "  eps=np.finfo(np.float).eps, positive=False):\n",
      "/opt/anaconda3/lib/python3.7/site-packages/sklearn/linear_model/least_angle.py:1362: DeprecationWarning: `np.float` is a deprecated alias for the builtin `float`. To silence this warning, use `float` by itself. Doing this will not modify any behavior and is safe. If you specifically wanted the numpy scalar type, use `np.float64` here.\n",
      "Deprecated in NumPy 1.20; for more details and guidance: https://numpy.org/devdocs/release/1.20.0-notes.html#deprecations\n",
      "  max_n_alphas=1000, n_jobs=None, eps=np.finfo(np.float).eps,\n",
      "/opt/anaconda3/lib/python3.7/site-packages/sklearn/linear_model/least_angle.py:1602: DeprecationWarning: `np.float` is a deprecated alias for the builtin `float`. To silence this warning, use `float` by itself. Doing this will not modify any behavior and is safe. If you specifically wanted the numpy scalar type, use `np.float64` here.\n",
      "Deprecated in NumPy 1.20; for more details and guidance: https://numpy.org/devdocs/release/1.20.0-notes.html#deprecations\n",
      "  max_n_alphas=1000, n_jobs=None, eps=np.finfo(np.float).eps,\n",
      "/opt/anaconda3/lib/python3.7/site-packages/sklearn/linear_model/least_angle.py:1738: DeprecationWarning: `np.float` is a deprecated alias for the builtin `float`. To silence this warning, use `float` by itself. Doing this will not modify any behavior and is safe. If you specifically wanted the numpy scalar type, use `np.float64` here.\n",
      "Deprecated in NumPy 1.20; for more details and guidance: https://numpy.org/devdocs/release/1.20.0-notes.html#deprecations\n",
      "  eps=np.finfo(np.float).eps, copy_X=True, positive=False):\n",
      "/opt/anaconda3/lib/python3.7/site-packages/sklearn/decomposition/online_lda.py:29: DeprecationWarning: `np.float` is a deprecated alias for the builtin `float`. To silence this warning, use `float` by itself. Doing this will not modify any behavior and is safe. If you specifically wanted the numpy scalar type, use `np.float64` here.\n",
      "Deprecated in NumPy 1.20; for more details and guidance: https://numpy.org/devdocs/release/1.20.0-notes.html#deprecations\n",
      "  EPS = np.finfo(np.float).eps\n",
      "Namespace(debiased_filename='debiased_embeddings', definitional_filename='../data/definitional_pairs.json', embedding_filename='../../../Pretrained_Embeddings/CDAembeddings.w2v', equalize_filename='../data/equalize_pairs.json', gendered_words_filename='../data/gender_specific_full.json')\n",
      "definitional [['woman', 'man'], ['girl', 'boy'], ['she', 'he'], ['mother', 'father'], ['daughter', 'son'], ['gal', 'guy'], ['female', 'male'], ['her', 'his'], ['herself', 'himself']]\n",
      "gender specific 1441 ['he', 'his', 'He', 'her', 'she', 'him', 'She', 'man', 'women', 'men']\n",
      "*** Reading data from ../../../Pretrained_Embeddings/CDAembeddings.w2v\n",
      "(30943, 50)\n",
      "30943 words of dimension 50 : the, to, a, and, ..., sadder, roomate, compensates, marathons\n",
      "30943 words of dimension 50 : the, to, a, and, ..., sadder, roomate, compensates, marathons\n",
      "Debiasing...\n",
      "30943 words of dimension 50 : the, to, a, and, ..., sadder, roomate, compensates, marathons\n",
      "{('ex_girlfriend', 'ex_boyfriend'), ('son', 'daughter'), ('grandsons', 'granddaughters'), ('Congressman', 'Congresswoman'), ('brothers', 'sisters'), ('Fatherhood', 'Motherhood'), ('HIS', 'HER'), ('EX_GIRLFRIEND', 'EX_BOYFRIEND'), ('businessman', 'businesswoman'), ('Males', 'Females'), ('Fella', 'Granny'), ('prince', 'princess'), ('Gentleman', 'Lady'), ('grandfather', 'grandmother'), ('SCHOOLBOY', 'SCHOOLGIRL'), ('male', 'female'), ('brother', 'sister'), ('MALES', 'FEMALES'), ('Councilman', 'Councilwoman'), ('Male', 'Female'), ('Nephew', 'Niece'), ('NEPHEW', 'NIECE'), ('colt', 'filly'), ('Gelding', 'Mare'), ('GENTLEMEN', 'LADIES'), ('Wives', 'Husbands'), ('dudes', 'gals'), ('FATHERS', 'MOTHERS'), ('gelding', 'mare'), ('SON', 'DAUGHTER'), ('Ex_Girlfriend', 'Ex_Boyfriend'), ('Fraternity', 'Sorority'), ('FATHERHOOD', 'MOTHERHOOD'), ('HIMSELF', 'HERSELF'), ('nephew', 'niece'), ('Himself', 'Herself'), ('GRANDPA', 'GRANDMA'), ('congressman', 'congresswoman'), ('GRANDSON', 'GRANDDAUGHTER'), ('MONASTERY', 'CONVENT'), ('DAD', 'MOM'), ('Son', 'Daughter'), ('himself', 'herself'), ('SONS', 'DAUGHTERS'), ('Grandsons', 'Granddaughters'), ('KINGS', 'QUEENS'), ('Uncle', 'Aunt'), ('Catholic_Priest', 'Nun'), ('Prince', 'Princess'), ('King', 'Queen'), ('COLT', 'FILLY'), ('SPOKESMAN', 'SPOKESWOMAN'), ('Chairman', 'Chairwoman'), ('schoolboy', 'schoolgirl'), ('MEN', 'WOMEN'), ('fella', 'granny'), ('CHAIRMAN', 'CHAIRWOMAN'), ('gentleman', 'lady'), ('monastery', 'convent'), ('Fathers', 'Mothers'), ('Twin_Brother', 'Twin_Sister'), ('Men', 'Women'), ('his', 'her'), ('he', 'she'), ('boys', 'girls'), ('MAN', 'WOMAN'), ('Prostate_Cancer', 'Ovarian_Cancer'), ('Schoolboy', 'Schoolgirl'), ('Dudes', 'Gals'), ('Boy', 'Girl'), ('dad', 'mom'), ('Businessman', 'Businesswoman'), ('Brother', 'Sister'), ('BROTHER', 'SISTER'), ('TESTOSTERONE', 'ESTROGEN'), ('man', 'woman'), ('CATHOLIC_PRIEST', 'NUN'), ('Gentlemen', 'Ladies'), ('Father', 'Mother'), ('KING', 'QUEEN'), ('Brothers', 'Sisters'), ('catholic_priest', 'nun'), ('Colt', 'Filly'), ('FRATERNITY', 'SORORITY'), ('WIVES', 'HUSBANDS'), ('MALE', 'FEMALE'), ('PROSTATE_CANCER', 'OVARIAN_CANCER'), ('councilman', 'councilwoman'), ('fraternity', 'sorority'), ('kings', 'queens'), ('uncle', 'aunt'), ('FATHER', 'MOTHER'), ('spokesman', 'spokeswoman'), ('sons', 'daughters'), ('CONGRESSMAN', 'CONGRESSWOMAN'), ('prostate_cancer', 'ovarian_cancer'), ('DADS', 'MOMS'), ('wives', 'husbands'), ('Grandfather', 'Grandmother'), ('Monastery', 'Convent'), ('fatherhood', 'motherhood'), ('TWIN_BROTHER', 'TWIN_SISTER'), ('Sons', 'Daughters'), ('DUDES', 'GALS'), ('grandpa', 'grandma'), ('fathers', 'mothers'), ('king', 'queen'), ('HE', 'SHE'), ('boy', 'girl'), ('UNCLE', 'AUNT'), ('His', 'Her'), ('BOY', 'GIRL'), ('Grandson', 'Granddaughter'), ('gentlemen', 'ladies'), ('GELDING', 'MARE'), ('GRANDFATHER', 'GRANDMOTHER'), ('Boys', 'Girls'), ('COUNCILMAN', 'COUNCILWOMAN'), ('BROTHERS', 'SISTERS'), ('Testosterone', 'Estrogen'), ('Man', 'Woman'), ('dads', 'moms'), ('BUSINESSMAN', 'BUSINESSWOMAN'), ('PRINCE', 'PRINCESS'), ('men', 'women'), ('testosterone', 'estrogen'), ('twin_brother', 'twin_sister'), ('grandson', 'granddaughter'), ('GENTLEMAN', 'LADY'), ('He', 'She'), ('males', 'females'), ('father', 'mother'), ('Spokesman', 'Spokeswoman'), ('GRANDSONS', 'GRANDDAUGHTERS'), ('Dads', 'Moms'), ('Dad', 'Mom'), ('Grandpa', 'Grandma'), ('FELLA', 'GRANNY'), ('chairman', 'chairwoman'), ('Kings', 'Queens'), ('BOYS', 'GIRLS')}\n",
      "30943 words of dimension 50 : the, to, a, and, ..., sadder, roomate, compensates, marathons\n",
      "Saving to file...\n"
     ]
    },
    {
     "name": "stdout",
     "output_type": "stream",
     "text": [
      "Wrote 30943 words to debiased_embeddings\r\n",
      "\r\n",
      "\r\n",
      "Done!\r\n",
      "\r\n"
     ]
    }
   ],
   "source": [
    "def Debias():\n",
    "    embedding_file = '../../../Pretrained_Embeddings/CDAembeddings.w2v'\n",
    "    Bolukbasi(embedding_file)\n",
    "    #Manzini(embedding_file)\n",
    "    # homemaker, hairdresser not in Manzini (no CDA)\n",
    "    # manager not in Manzini (CDA)\n",
    "    # [\"his\", \"hers\"] (CDA)\n",
    "    # [\"Mary\", \"John\"] not in Bolukbasi (no CDA)\n",
    "    \n",
    "    '''\n",
    "    To-do: remove keys that are not in the corpus (ex. homemaker)\n",
    "    '''\n",
    "\n",
    "\n",
    "Main()"
   ]
  },
  {
   "cell_type": "code",
   "execution_count": null,
   "metadata": {},
   "outputs": [],
   "source": []
  }
 ],
 "metadata": {
  "kernelspec": {
   "display_name": "Python 3",
   "language": "python",
   "name": "python3"
  },
  "language_info": {
   "codemirror_mode": {
    "name": "ipython",
    "version": 3
   },
   "file_extension": ".py",
   "mimetype": "text/x-python",
   "name": "python",
   "nbconvert_exporter": "python",
   "pygments_lexer": "ipython3",
   "version": "3.7.4"
  }
 },
 "nbformat": 4,
 "nbformat_minor": 2
}
